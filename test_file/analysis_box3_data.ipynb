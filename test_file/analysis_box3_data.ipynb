{
 "cells": [
  {
   "cell_type": "code",
   "execution_count": 7,
   "metadata": {},
   "outputs": [],
   "source": [
    "import pymysql\n",
    "import pandas as pd"
   ]
  },
  {
   "cell_type": "code",
   "execution_count": 9,
   "metadata": {},
   "outputs": [
    {
     "name": "stdout",
     "output_type": "stream",
     "text": [
      "0\n",
      "[]\n"
     ]
    },
    {
     "name": "stderr",
     "output_type": "stream",
     "text": [
      "C:\\Users\\505-07\\AppData\\Local\\Temp\\ipykernel_14644\\4232658014.py:14: UserWarning: pandas only supports SQLAlchemy connectable (engine/connection) or database string URI or sqlite3 DBAPI2 connection. Other DBAPI2 objects are not tested. Please consider using SQLAlchemy.\n",
      "  df_keyword_data = pd.read_sql_query(sql_input, conn)\n"
     ]
    }
   ],
   "source": [
    "# five_rating_view\n",
    "conn = pymysql.connect(host = 'localhost',\n",
    "                port = 3306,\n",
    "                user = 'root',\n",
    "                password = '1234',\n",
    "                db = 'copang_analysis')\n",
    "sql_input = '''select keyword,count(keyword)as count from keyword_table \n",
    "\twhere\n",
    "    review_num in (select review_num from review_table where review_score = \"1\")\n",
    "    group by\n",
    "    keyword\n",
    "    order by count desc\n",
    "    limit 10;'''\n",
    "df_keyword_data = pd.read_sql_query(sql_input, conn)\n",
    "print(len(df_keyword_data))\n",
    "\n",
    "#가장 많이 나온 키워드 10개를 리스트화\n",
    "five_rating_keword = df_keyword_data.head(10)[\"keyword\"].values.tolist()\n",
    "\n",
    "#입력할 데이터\n",
    "print(len(five_rating_keword))\n"
   ]
  },
  {
   "cell_type": "code",
   "execution_count": null,
   "metadata": {},
   "outputs": [],
   "source": [
    "# four_rating_view"
   ]
  },
  {
   "cell_type": "code",
   "execution_count": null,
   "metadata": {},
   "outputs": [],
   "source": [
    "# thr_rating_view"
   ]
  },
  {
   "cell_type": "code",
   "execution_count": null,
   "metadata": {},
   "outputs": [],
   "source": [
    "# two_rating_view"
   ]
  },
  {
   "cell_type": "code",
   "execution_count": null,
   "metadata": {},
   "outputs": [],
   "source": [
    "# one_rating_view"
   ]
  }
 ],
 "metadata": {
  "kernelspec": {
   "display_name": "Python 3.10.7 64-bit",
   "language": "python",
   "name": "python3"
  },
  "language_info": {
   "codemirror_mode": {
    "name": "ipython",
    "version": 3
   },
   "file_extension": ".py",
   "mimetype": "text/x-python",
   "name": "python",
   "nbconvert_exporter": "python",
   "pygments_lexer": "ipython3",
   "version": "3.10.7"
  },
  "orig_nbformat": 4,
  "vscode": {
   "interpreter": {
    "hash": "9ee9d0e1fd84db6551846283a39a5fe28c54baec31cf71e9460ba41fdf3a2bf3"
   }
  }
 },
 "nbformat": 4,
 "nbformat_minor": 2
}
