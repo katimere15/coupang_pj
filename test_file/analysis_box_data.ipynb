{
 "cells": [
  {
   "cell_type": "code",
   "execution_count": 2,
   "metadata": {},
   "outputs": [],
   "source": [
    "import pymysql\n",
    "import pandas as pd\n",
    "import random as rd"
   ]
  },
  {
   "cell_type": "code",
   "execution_count": 14,
   "metadata": {},
   "outputs": [
    {
     "name": "stdout",
     "output_type": "stream",
     "text": [
      "['참치', '요리', '가격', '구매', '기름', '김치', '양파', '김치찌개', '제품', '야채']\n"
     ]
    },
    {
     "name": "stderr",
     "output_type": "stream",
     "text": [
      "c:\\Users\\505-07\\anaconda3\\lib\\site-packages\\pandas\\io\\sql.py:761: UserWarning: pandas only support SQLAlchemy connectable(engine/connection) ordatabase string URI or sqlite3 DBAPI2 connectionother DBAPI2 objects are not tested, please consider using SQLAlchemy\n",
      "  warnings.warn(\n"
     ]
    }
   ],
   "source": [
    "# 상품에 대한 키워드 box에 들어갈 데이터\n",
    "conn = pymysql.connect(host = 'localhost',\n",
    "                port = 3306,\n",
    "                user = 'root',\n",
    "                password = '1234',\n",
    "                db = 'copang_analysis')\n",
    "sql_input = \"select keyword,count(keyword) as cnt from keyword_table group by keyword order by cnt desc;\"\n",
    "df_keyword_data = pd.read_sql_query(sql_input, conn)\n",
    "\n",
    "\n",
    "#가장 많이 나온 키워드 10개를 리스트화\n",
    "prod_keyword_lst = df_keyword_data.head(10)[\"keyword\"].values.tolist()\n",
    "\n",
    "#입력할 데이터\n",
    "print(type(prod_keyword_lst))\n",
    "print(prod_keyword_lst)\n"
   ]
  },
  {
   "cell_type": "code",
   "execution_count": 1,
   "metadata": {},
   "outputs": [
    {
     "ename": "NameError",
     "evalue": "name 'pymysql' is not defined",
     "output_type": "error",
     "traceback": [
      "\u001b[1;31m---------------------------------------------------------------------------\u001b[0m",
      "\u001b[1;31mNameError\u001b[0m                                 Traceback (most recent call last)",
      "Cell \u001b[1;32mIn [1], line 4\u001b[0m\n\u001b[0;32m      1\u001b[0m \u001b[38;5;66;03m# 키워드 클릭시 키워드가 들어간 리뷰 box에 들어갈 데이터\u001b[39;00m\n\u001b[0;32m      2\u001b[0m click_keyword \u001b[38;5;241m=\u001b[39m \u001b[38;5;124m\"\u001b[39m\u001b[38;5;124m가격\u001b[39m\u001b[38;5;124m\"\u001b[39m\n\u001b[1;32m----> 4\u001b[0m conn \u001b[38;5;241m=\u001b[39m pymysql\u001b[38;5;241m.\u001b[39mconnect(host \u001b[38;5;241m=\u001b[39m \u001b[38;5;124m'\u001b[39m\u001b[38;5;124mlocalhost\u001b[39m\u001b[38;5;124m'\u001b[39m,\n\u001b[0;32m      5\u001b[0m                 port \u001b[38;5;241m=\u001b[39m \u001b[38;5;241m3306\u001b[39m,\n\u001b[0;32m      6\u001b[0m                 user \u001b[38;5;241m=\u001b[39m \u001b[38;5;124m'\u001b[39m\u001b[38;5;124mroot\u001b[39m\u001b[38;5;124m'\u001b[39m,\n\u001b[0;32m      7\u001b[0m                 password \u001b[38;5;241m=\u001b[39m \u001b[38;5;124m'\u001b[39m\u001b[38;5;124m1234\u001b[39m\u001b[38;5;124m'\u001b[39m,\n\u001b[0;32m      8\u001b[0m                 db \u001b[38;5;241m=\u001b[39m \u001b[38;5;124m'\u001b[39m\u001b[38;5;124mcopang_analysis\u001b[39m\u001b[38;5;124m'\u001b[39m)\n\u001b[0;32m      9\u001b[0m sql_input \u001b[38;5;241m=\u001b[39m \u001b[38;5;124mf\u001b[39m\u001b[38;5;124m\"\u001b[39m\u001b[38;5;124mselect review from review_table where review like (\u001b[39m\u001b[38;5;124m'\u001b[39m\u001b[38;5;124m%\u001b[39m\u001b[38;5;132;01m{\u001b[39;00mclick_keyword\u001b[38;5;132;01m}\u001b[39;00m\u001b[38;5;124m%\u001b[39m\u001b[38;5;124m'\u001b[39m\u001b[38;5;124m);\u001b[39m\u001b[38;5;124m\"\u001b[39m\n\u001b[0;32m     10\u001b[0m df_keyword_in_review_data \u001b[38;5;241m=\u001b[39m pd\u001b[38;5;241m.\u001b[39mread_sql_query(sql_input, conn)\n",
      "\u001b[1;31mNameError\u001b[0m: name 'pymysql' is not defined"
     ]
    }
   ],
   "source": [
    "# 키워드 클릭시 키워드가 들어간 리뷰 box에 들어갈 데이터\n",
    "click_keyword = \"가격\"\n",
    "\n",
    "conn = pymysql.connect(host = 'localhost',\n",
    "                port = 3306,\n",
    "                user = 'root',\n",
    "                password = '1234',\n",
    "                db = 'copang_analysis')\n",
    "sql_input = f\"select review from review_table where review like ('%{click_keyword}%');\"\n",
    "df_keyword_in_review_data = pd.read_sql_query(sql_input, conn)\n",
    "\n",
    "prod_keyword_in_review_lst = df_keyword_in_review_data[\"review\"].values.tolist()\n",
    "\n",
    "rand_review = rd.sample(prod_keyword_in_review_lst,5)\n",
    "\n",
    "#입력할 데이터\n",
    "print(type(rand_review))\n",
    "print(rand_review)\n",
    "\n"
   ]
  }
 ],
 "metadata": {
  "kernelspec": {
   "display_name": "Python 3.10.7 64-bit",
   "language": "python",
   "name": "python3"
  },
  "language_info": {
   "codemirror_mode": {
    "name": "ipython",
    "version": 3
   },
   "file_extension": ".py",
   "mimetype": "text/x-python",
   "name": "python",
   "nbconvert_exporter": "python",
   "pygments_lexer": "ipython3",
   "version": "3.10.7"
  },
  "orig_nbformat": 4,
  "vscode": {
   "interpreter": {
    "hash": "9ee9d0e1fd84db6551846283a39a5fe28c54baec31cf71e9460ba41fdf3a2bf3"
   }
  }
 },
 "nbformat": 4,
 "nbformat_minor": 2
}
